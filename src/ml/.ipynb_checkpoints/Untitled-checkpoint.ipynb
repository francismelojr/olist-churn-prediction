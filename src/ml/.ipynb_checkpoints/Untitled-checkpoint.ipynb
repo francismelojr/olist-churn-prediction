{
 "cells": [
  {
   "cell_type": "code",
   "execution_count": 15,
   "id": "0f604b5b",
   "metadata": {
    "ExecuteTime": {
     "end_time": "2023-10-01T22:16:33.178742Z",
     "start_time": "2023-10-01T22:16:33.176523Z"
    }
   },
   "outputs": [],
   "source": [
    "import pandas as pd\n",
    "import sqlite3\n",
    "import seaborn as sns\n",
    "import numpy as np"
   ]
  },
  {
   "cell_type": "code",
   "execution_count": 9,
   "id": "51a9df19",
   "metadata": {
    "ExecuteTime": {
     "end_time": "2023-10-01T22:15:07.869510Z",
     "start_time": "2023-10-01T22:15:07.672331Z"
    }
   },
   "outputs": [],
   "source": [
    "#Importing Table\n",
    "\n",
    "path = r'C:\\Users\\franc\\Data Science\\Notebooks\\o-list\\data\\olist.db'\n",
    "with sqlite3.connect(path) as conn:\n",
    "    query = \"SELECT * FROM abt_olist_churn\"\n",
    "    df = pd.read_sql_query(query, conn)"
   ]
  },
  {
   "cell_type": "code",
   "execution_count": 10,
   "id": "a7ed4854",
   "metadata": {
    "ExecuteTime": {
     "end_time": "2023-10-01T22:15:10.776290Z",
     "start_time": "2023-10-01T22:15:10.760325Z"
    }
   },
   "outputs": [
    {
     "data": {
      "text/html": [
       "<div>\n",
       "<style scoped>\n",
       "    .dataframe tbody tr th:only-of-type {\n",
       "        vertical-align: middle;\n",
       "    }\n",
       "\n",
       "    .dataframe tbody tr th {\n",
       "        vertical-align: top;\n",
       "    }\n",
       "\n",
       "    .dataframe thead th {\n",
       "        text-align: right;\n",
       "    }\n",
       "</style>\n",
       "<table border=\"1\" class=\"dataframe\">\n",
       "  <thead>\n",
       "    <tr style=\"text-align: right;\">\n",
       "      <th></th>\n",
       "      <th>dtReference</th>\n",
       "      <th>idVendedor</th>\n",
       "      <th>qtdPedidos</th>\n",
       "      <th>qtdDiasComPedidos</th>\n",
       "      <th>qtItens</th>\n",
       "      <th>ticketMedio</th>\n",
       "      <th>avgValorProduto</th>\n",
       "      <th>maxValorProduto</th>\n",
       "      <th>minValorProduto</th>\n",
       "      <th>avgProdutoPorPedido</th>\n",
       "      <th>...</th>\n",
       "      <th>pctCategoria_telefonia</th>\n",
       "      <th>pctCategoria_automotivo</th>\n",
       "      <th>pctCategoria_brinquedos</th>\n",
       "      <th>pctCategoria_cool_stuff</th>\n",
       "      <th>pctCategoria_ferramentas_jardim</th>\n",
       "      <th>pctCategoria_perfumaria</th>\n",
       "      <th>pctCategoria_bebes</th>\n",
       "      <th>pctCategoria_eletronico</th>\n",
       "      <th>pctSalesOnTop15Category</th>\n",
       "      <th>flChurn</th>\n",
       "    </tr>\n",
       "  </thead>\n",
       "  <tbody>\n",
       "    <tr>\n",
       "      <th>0</th>\n",
       "      <td>2017-10-01</td>\n",
       "      <td>0015a82c2db000af6aaaf3ae2ecb0532</td>\n",
       "      <td>1</td>\n",
       "      <td>1</td>\n",
       "      <td>1</td>\n",
       "      <td>895.000000</td>\n",
       "      <td>895.000000</td>\n",
       "      <td>895.000000</td>\n",
       "      <td>895.000000</td>\n",
       "      <td>1</td>\n",
       "      <td>...</td>\n",
       "      <td>0.0</td>\n",
       "      <td>0.0</td>\n",
       "      <td>0.0</td>\n",
       "      <td>0.0</td>\n",
       "      <td>0.0</td>\n",
       "      <td>0.0</td>\n",
       "      <td>0.0</td>\n",
       "      <td>0.0</td>\n",
       "      <td>0.0</td>\n",
       "      <td>0</td>\n",
       "    </tr>\n",
       "    <tr>\n",
       "      <th>1</th>\n",
       "      <td>2017-11-01</td>\n",
       "      <td>0015a82c2db000af6aaaf3ae2ecb0532</td>\n",
       "      <td>3</td>\n",
       "      <td>3</td>\n",
       "      <td>1</td>\n",
       "      <td>895.000000</td>\n",
       "      <td>895.000000</td>\n",
       "      <td>895.000000</td>\n",
       "      <td>895.000000</td>\n",
       "      <td>1</td>\n",
       "      <td>...</td>\n",
       "      <td>0.0</td>\n",
       "      <td>0.0</td>\n",
       "      <td>0.0</td>\n",
       "      <td>0.0</td>\n",
       "      <td>0.0</td>\n",
       "      <td>0.0</td>\n",
       "      <td>0.0</td>\n",
       "      <td>0.0</td>\n",
       "      <td>0.0</td>\n",
       "      <td>1</td>\n",
       "    </tr>\n",
       "    <tr>\n",
       "      <th>2</th>\n",
       "      <td>2017-12-01</td>\n",
       "      <td>0015a82c2db000af6aaaf3ae2ecb0532</td>\n",
       "      <td>3</td>\n",
       "      <td>3</td>\n",
       "      <td>1</td>\n",
       "      <td>895.000000</td>\n",
       "      <td>895.000000</td>\n",
       "      <td>895.000000</td>\n",
       "      <td>895.000000</td>\n",
       "      <td>1</td>\n",
       "      <td>...</td>\n",
       "      <td>0.0</td>\n",
       "      <td>0.0</td>\n",
       "      <td>0.0</td>\n",
       "      <td>0.0</td>\n",
       "      <td>0.0</td>\n",
       "      <td>0.0</td>\n",
       "      <td>0.0</td>\n",
       "      <td>0.0</td>\n",
       "      <td>0.0</td>\n",
       "      <td>1</td>\n",
       "    </tr>\n",
       "    <tr>\n",
       "      <th>3</th>\n",
       "      <td>2017-03-01</td>\n",
       "      <td>001cca7ae9ae17fb1caed9dfb1094831</td>\n",
       "      <td>5</td>\n",
       "      <td>4</td>\n",
       "      <td>1</td>\n",
       "      <td>219.780003</td>\n",
       "      <td>99.900002</td>\n",
       "      <td>99.900002</td>\n",
       "      <td>99.900002</td>\n",
       "      <td>2</td>\n",
       "      <td>...</td>\n",
       "      <td>0.0</td>\n",
       "      <td>0.0</td>\n",
       "      <td>0.0</td>\n",
       "      <td>0.0</td>\n",
       "      <td>1.0</td>\n",
       "      <td>0.0</td>\n",
       "      <td>0.0</td>\n",
       "      <td>0.0</td>\n",
       "      <td>1.0</td>\n",
       "      <td>0</td>\n",
       "    </tr>\n",
       "    <tr>\n",
       "      <th>4</th>\n",
       "      <td>2017-04-01</td>\n",
       "      <td>001cca7ae9ae17fb1caed9dfb1094831</td>\n",
       "      <td>16</td>\n",
       "      <td>13</td>\n",
       "      <td>3</td>\n",
       "      <td>173.475000</td>\n",
       "      <td>99.128572</td>\n",
       "      <td>139.899994</td>\n",
       "      <td>69.900002</td>\n",
       "      <td>1</td>\n",
       "      <td>...</td>\n",
       "      <td>0.0</td>\n",
       "      <td>0.0</td>\n",
       "      <td>0.0</td>\n",
       "      <td>0.0</td>\n",
       "      <td>1.0</td>\n",
       "      <td>0.0</td>\n",
       "      <td>0.0</td>\n",
       "      <td>0.0</td>\n",
       "      <td>1.0</td>\n",
       "      <td>0</td>\n",
       "    </tr>\n",
       "  </tbody>\n",
       "</table>\n",
       "<p>5 rows × 95 columns</p>\n",
       "</div>"
      ],
      "text/plain": [
       "  dtReference                        idVendedor  qtdPedidos  \\\n",
       "0  2017-10-01  0015a82c2db000af6aaaf3ae2ecb0532           1   \n",
       "1  2017-11-01  0015a82c2db000af6aaaf3ae2ecb0532           3   \n",
       "2  2017-12-01  0015a82c2db000af6aaaf3ae2ecb0532           3   \n",
       "3  2017-03-01  001cca7ae9ae17fb1caed9dfb1094831           5   \n",
       "4  2017-04-01  001cca7ae9ae17fb1caed9dfb1094831          16   \n",
       "\n",
       "   qtdDiasComPedidos  qtItens  ticketMedio  avgValorProduto  maxValorProduto  \\\n",
       "0                  1        1   895.000000       895.000000       895.000000   \n",
       "1                  3        1   895.000000       895.000000       895.000000   \n",
       "2                  3        1   895.000000       895.000000       895.000000   \n",
       "3                  4        1   219.780003        99.900002        99.900002   \n",
       "4                 13        3   173.475000        99.128572       139.899994   \n",
       "\n",
       "   minValorProduto  avgProdutoPorPedido  ...  pctCategoria_telefonia  \\\n",
       "0       895.000000                    1  ...                     0.0   \n",
       "1       895.000000                    1  ...                     0.0   \n",
       "2       895.000000                    1  ...                     0.0   \n",
       "3        99.900002                    2  ...                     0.0   \n",
       "4        69.900002                    1  ...                     0.0   \n",
       "\n",
       "   pctCategoria_automotivo  pctCategoria_brinquedos  pctCategoria_cool_stuff  \\\n",
       "0                      0.0                      0.0                      0.0   \n",
       "1                      0.0                      0.0                      0.0   \n",
       "2                      0.0                      0.0                      0.0   \n",
       "3                      0.0                      0.0                      0.0   \n",
       "4                      0.0                      0.0                      0.0   \n",
       "\n",
       "   pctCategoria_ferramentas_jardim  pctCategoria_perfumaria  \\\n",
       "0                              0.0                      0.0   \n",
       "1                              0.0                      0.0   \n",
       "2                              0.0                      0.0   \n",
       "3                              1.0                      0.0   \n",
       "4                              1.0                      0.0   \n",
       "\n",
       "   pctCategoria_bebes  pctCategoria_eletronico  pctSalesOnTop15Category  \\\n",
       "0                 0.0                      0.0                      0.0   \n",
       "1                 0.0                      0.0                      0.0   \n",
       "2                 0.0                      0.0                      0.0   \n",
       "3                 0.0                      0.0                      1.0   \n",
       "4                 0.0                      0.0                      1.0   \n",
       "\n",
       "   flChurn  \n",
       "0        0  \n",
       "1        1  \n",
       "2        1  \n",
       "3        0  \n",
       "4        0  \n",
       "\n",
       "[5 rows x 95 columns]"
      ]
     },
     "execution_count": 10,
     "metadata": {},
     "output_type": "execute_result"
    }
   ],
   "source": [
    "df.head()"
   ]
  },
  {
   "cell_type": "code",
   "execution_count": 22,
   "id": "c8a3861a",
   "metadata": {
    "ExecuteTime": {
     "end_time": "2023-10-01T22:18:12.016665Z",
     "start_time": "2023-10-01T22:18:11.863449Z"
    }
   },
   "outputs": [
    {
     "data": {
      "image/png": "[encoded data removed]",
      "text/plain": [
       "<Figure size 640x480 with 1 Axes>"
      ]
     },
     "metadata": {},
     "output_type": "display_data"
    }
   ],
   "source": [
    "sns.histplot(df[\"ticketMedio\"][df[\"ticketMedio\"] < 1500], bins=50);"
   ]
  },
  {
   "cell_type": "code",
   "execution_count": 23,
   "id": "26169737",
   "metadata": {
    "ExecuteTime": {
     "end_time": "2023-10-01T22:18:52.799394Z",
     "start_time": "2023-10-01T22:18:52.793823Z"
    }
   },
   "outputs": [
    {
     "data": {
      "text/plain": [
       "0    6421\n",
       "1    3074\n",
       "Name: flChurn, dtype: int64"
      ]
     },
     "execution_count": 23,
     "metadata": {},
     "output_type": "execute_result"
    }
   ],
   "source": [
    "df[\"flChurn\"].value_counts()"
   ]
  }
 ],
 "metadata": {
  "hide_input": false,
  "kernelspec": {
   "display_name": "Python 3 (ipykernel)",
   "language": "python",
   "name": "python3"
  },
  "language_info": {
   "codemirror_mode": {
    "name": "ipython",
    "version": 3
   },
   "file_extension": ".py",
   "mimetype": "text/x-python",
   "name": "python",
   "nbconvert_exporter": "python",
   "pygments_lexer": "ipython3",
   "version": "3.11.5"
  },
  "toc": {
   "base_numbering": 1,
   "nav_menu": {},
   "number_sections": true,
   "sideBar": true,
   "skip_h1_title": false,
   "title_cell": "Table of Contents",
   "title_sidebar": "Contents",
   "toc_cell": false,
   "toc_position": {},
   "toc_section_display": true,
   "toc_window_display": false
  }
 },
 "nbformat": 4,
 "nbformat_minor": 5
}
